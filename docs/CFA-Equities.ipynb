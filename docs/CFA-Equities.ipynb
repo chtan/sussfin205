{
 "cells": [
  {
   "cell_type": "markdown",
   "id": "3ca02ab1",
   "metadata": {},
   "source": [
    "### QUESTION 1 of 10:\n",
    "\n",
    "A beverage manufacturer recently introduced a new line of healthy tea-based drinks. The average selling price was USD20 a case last year and the company sold 2 million cases. This year, an analyst forecasts sales of 3 million cases and an increase in the average selling price—from a reduction in discounts and promotions—of 5%. The analyst’s forecast for net sales growth this year over the prior year is closest to:\n",
    "\n",
    "a) 50%\n",
    "\n",
    "b) 55%\n",
    "\n",
    "*c) 58%"
   ]
  },
  {
   "cell_type": "code",
   "execution_count": 2,
   "id": "bb9df6c0",
   "metadata": {},
   "outputs": [
    {
     "name": "stdout",
     "output_type": "stream",
     "text": [
      "0.575\n"
     ]
    }
   ],
   "source": [
    "py = 20\n",
    "ny = 2e+6\n",
    "ny1 = 3e+6\n",
    "py1 = (1 + 0.05) * py\n",
    "\n",
    "g = (py1 * ny1 - py * ny) / (py * ny) \n",
    "print(g)"
   ]
  },
  {
   "cell_type": "markdown",
   "id": "290b5eb4",
   "metadata": {},
   "source": [
    "### QUESTION 2 of 10:\n",
    "\n",
    "A company’s management may choose not to use financial leverage because the company has:\n",
    "\n",
    "a) an investment-grade credit rating.\n",
    "\n",
    "?b) a high degree of operating leverage.\n",
    "\n",
    "c) a lower net debt to EBITDA ratio than its peers."
   ]
  },
  {
   "cell_type": "markdown",
   "id": "e67df936",
   "metadata": {},
   "source": [
    "### QUESTION 3 of 10:\n",
    "\n",
    "A factor that determines sensitivity to the business cycle is most likely:\n",
    "\n",
    "a) customer migration to substitute products.\n",
    "\n",
    "b) interest rate exposure of the business model.\n",
    "\n",
    "*c) growth rates in line with broader economic activity."
   ]
  },
  {
   "cell_type": "markdown",
   "id": "b8557be0",
   "metadata": {},
   "source": [
    "### QUESTION 4 of 10:\n",
    "\n",
    "A common measure of industry concentration is:\n",
    "\n",
    "a) Porter’s Five Forces.\n",
    "\n",
    "b) the PESTLE framework.\n",
    "\n",
    "*c) the Herfindahl-Hirschman Index."
   ]
  },
  {
   "cell_type": "markdown",
   "id": "596b1e8d",
   "metadata": {},
   "source": [
    "### QUESTION 5 of 10:\n",
    "\n",
    "A benefit of using summary measures as forecast objects is most likely:\n",
    "\n",
    "*a) efficiency.\n",
    "\n",
    "b) transparency.\n",
    "\n",
    "c) explanatory value."
   ]
  },
  {
   "cell_type": "markdown",
   "id": "1b295992",
   "metadata": {},
   "source": [
    "### QUESTION 6 of 10:\n",
    "\n",
    "Which of the following approaches is most appropriate for forecasting annual revenues for a company in a cyclical industry?\n",
    "\n",
    "*a) Historical results.\n",
    "\n",
    "b) Management guidance.\n",
    "\n",
    "c) Analyst’s discretionary forecast."
   ]
  },
  {
   "cell_type": "markdown",
   "id": "4a7b6705",
   "metadata": {},
   "source": [
    "### QUESTION 7 of 10:\n",
    "\n",
    "An example of a top-down driver for revenue is a company’s:\n",
    "\n",
    "*a) market share.\n",
    "\n",
    "*b) sales growth rate.\n",
    "\n",
    "c) products’ average selling price"
   ]
  },
  {
   "cell_type": "markdown",
   "id": "d37cf049",
   "metadata": {},
   "source": [
    "### QUESTION 8 of 10:\n",
    "\n",
    "Working capital forecasts for a mature company with a unique business model are most likely made by:\n",
    "\n",
    "a) increasing the current assets and liabilities by the sales growth rate.\n",
    "\n",
    "b) using the company’s efficiency ratios combined with sales and operating forecasts.\n",
    "\n",
    "*c) using a historical base rate and convergence approach to develop forecasts of revenue, operating expenses, and efficiency ratios."
   ]
  },
  {
   "cell_type": "markdown",
   "id": "f8c643c0",
   "metadata": {},
   "source": [
    "### QUESTION 9 of 10:\n",
    "\n",
    "Depreciation and amortization expenses are often used as the basis for:\n",
    "\n",
    "a) growth capital expenditures only.\n",
    "\n",
    "*b) maintenance capital expenditures only.\n",
    "\n",
    "c) both growth and maintenance capital expenditures."
   ]
  },
  {
   "cell_type": "markdown",
   "id": "0e660308",
   "metadata": {},
   "source": [
    "### QUESTION 10 of 10:\n",
    "\n",
    "Which of the following generic risk factors is most likely to affect an established company in the consumer staples sector?\n",
    "\n",
    "a) Inflation or deflation.\n",
    "\n",
    "b) Technological developments.\n",
    "\n",
    "c) Changes in the business cycle."
   ]
  }
 ],
 "metadata": {
  "kernelspec": {
   "display_name": "Python 3 (ipykernel)",
   "language": "python",
   "name": "python3"
  },
  "language_info": {
   "codemirror_mode": {
    "name": "ipython",
    "version": 3
   },
   "file_extension": ".py",
   "mimetype": "text/x-python",
   "name": "python",
   "nbconvert_exporter": "python",
   "pygments_lexer": "ipython3",
   "version": "3.11.3"
  }
 },
 "nbformat": 4,
 "nbformat_minor": 5
}
